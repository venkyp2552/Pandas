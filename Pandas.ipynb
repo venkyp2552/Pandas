{
 "cells": [
  {
   "cell_type": "code",
   "execution_count": 1,
   "id": "b12ca211",
   "metadata": {},
   "outputs": [
    {
     "name": "stdout",
     "output_type": "stream",
     "text": [
      "Requirement already satisfied: pandas in c:\\users\\zedbee technologies\\appdata\\local\\programs\\python\\python310\\lib\\site-packages (1.4.3)"
     ]
    },
    {
     "name": "stderr",
     "output_type": "stream",
     "text": [
      "\n",
      "[notice] A new release of pip available: 22.2.2 -> 22.3\n",
      "[notice] To update, run: python.exe -m pip install --upgrade pip\n"
     ]
    },
    {
     "name": "stdout",
     "output_type": "stream",
     "text": [
      "\n",
      "Requirement already satisfied: python-dateutil>=2.8.1 in c:\\users\\zedbee technologies\\appdata\\local\\programs\\python\\python310\\lib\\site-packages (from pandas) (2.8.2)\n",
      "Requirement already satisfied: pytz>=2020.1 in c:\\users\\zedbee technologies\\appdata\\local\\programs\\python\\python310\\lib\\site-packages (from pandas) (2022.2.1)\n",
      "Requirement already satisfied: numpy>=1.21.0 in c:\\users\\zedbee technologies\\appdata\\local\\programs\\python\\python310\\lib\\site-packages (from pandas) (1.23.2)\n",
      "Requirement already satisfied: six>=1.5 in c:\\users\\zedbee technologies\\appdata\\local\\programs\\python\\python310\\lib\\site-packages (from python-dateutil>=2.8.1->pandas) (1.16.0)\n"
     ]
    }
   ],
   "source": [
    "!pip install pandas"
   ]
  },
  {
   "cell_type": "code",
   "execution_count": 3,
   "id": "677dd409",
   "metadata": {},
   "outputs": [],
   "source": [
    "import numpy as np\n",
    "import pandas as pd"
   ]
  },
  {
   "cell_type": "markdown",
   "id": "52b74220",
   "metadata": {},
   "source": [
    "#  Series"
   ]
  },
  {
   "cell_type": "code",
   "execution_count": 4,
   "id": "0938f669",
   "metadata": {},
   "outputs": [
    {
     "data": {
      "text/plain": [
       "a    1\n",
       "b    2\n",
       "c    3\n",
       "d    4\n",
       "dtype: int64"
      ]
     },
     "execution_count": 4,
     "metadata": {},
     "output_type": "execute_result"
    }
   ],
   "source": [
    "pd.Series(data=[1,2,3,4],index=[\"a\",\"b\",\"c\",\"d\"])"
   ]
  },
  {
   "cell_type": "code",
   "execution_count": 6,
   "id": "00337b83",
   "metadata": {},
   "outputs": [
    {
     "data": {
      "text/plain": [
       "{'e': 20, 'd': 30, 'f': 40, 'g': 50}"
      ]
     },
     "execution_count": 6,
     "metadata": {},
     "output_type": "execute_result"
    }
   ],
   "source": [
    "#with Dictonireis\n",
    "myD={\"e\":20,\"d\":30,\"f\":40,\"g\":50}\n",
    "myD"
   ]
  },
  {
   "cell_type": "code",
   "execution_count": 7,
   "id": "45e0698a",
   "metadata": {},
   "outputs": [
    {
     "data": {
      "text/plain": [
       "e    20\n",
       "d    30\n",
       "f    40\n",
       "g    50\n",
       "dtype: int64"
      ]
     },
     "execution_count": 7,
     "metadata": {},
     "output_type": "execute_result"
    }
   ],
   "source": [
    "pd.Series(myD)"
   ]
  },
  {
   "cell_type": "code",
   "execution_count": 8,
   "id": "2331894f",
   "metadata": {},
   "outputs": [],
   "source": [
    "s1=pd.Series(data=[1,2,3,4],index=[\"a\",\"b\",\"c\",\"d\"])"
   ]
  },
  {
   "cell_type": "code",
   "execution_count": 9,
   "id": "ba0e881f",
   "metadata": {},
   "outputs": [],
   "source": [
    "s2=pd.Series(data=[1,2,3,4],index=[\"a\",\"z\",\"c\",\"r\"])"
   ]
  },
  {
   "cell_type": "code",
   "execution_count": 10,
   "id": "d4889bec",
   "metadata": {},
   "outputs": [
    {
     "data": {
      "text/plain": [
       "a    2.0\n",
       "b    NaN\n",
       "c    6.0\n",
       "d    NaN\n",
       "r    NaN\n",
       "z    NaN\n",
       "dtype: float64"
      ]
     },
     "execution_count": 10,
     "metadata": {},
     "output_type": "execute_result"
    }
   ],
   "source": [
    "s1+s2"
   ]
  },
  {
   "cell_type": "markdown",
   "id": "5a7ab079",
   "metadata": {},
   "source": [
    "#  DataFrames"
   ]
  },
  {
   "cell_type": "code",
   "execution_count": 11,
   "id": "667c9b05",
   "metadata": {},
   "outputs": [],
   "source": [
    "from numpy.random import randn"
   ]
  },
  {
   "cell_type": "code",
   "execution_count": 12,
   "id": "72883064",
   "metadata": {},
   "outputs": [
    {
     "data": {
      "text/plain": [
       "array([[ 0.66895191, -0.50420331,  0.4616538 , -0.20937133],\n",
       "       [-1.97942829, -0.39214583, -0.01008031,  0.51391183],\n",
       "       [ 0.37405777, -0.6318854 ,  0.0061917 ,  1.15256324]])"
      ]
     },
     "execution_count": 12,
     "metadata": {},
     "output_type": "execute_result"
    }
   ],
   "source": [
    "md=randn(3,4)\n",
    "md"
   ]
  },
  {
   "cell_type": "code",
   "execution_count": 13,
   "id": "3675e6dc",
   "metadata": {},
   "outputs": [
    {
     "data": {
      "text/html": [
       "<div>\n",
       "<style scoped>\n",
       "    .dataframe tbody tr th:only-of-type {\n",
       "        vertical-align: middle;\n",
       "    }\n",
       "\n",
       "    .dataframe tbody tr th {\n",
       "        vertical-align: top;\n",
       "    }\n",
       "\n",
       "    .dataframe thead th {\n",
       "        text-align: right;\n",
       "    }\n",
       "</style>\n",
       "<table border=\"1\" class=\"dataframe\">\n",
       "  <thead>\n",
       "    <tr style=\"text-align: right;\">\n",
       "      <th></th>\n",
       "      <th>C1</th>\n",
       "      <th>C2</th>\n",
       "      <th>C3</th>\n",
       "      <th>C4</th>\n",
       "    </tr>\n",
       "  </thead>\n",
       "  <tbody>\n",
       "    <tr>\n",
       "      <th>R1</th>\n",
       "      <td>0.668952</td>\n",
       "      <td>-0.504203</td>\n",
       "      <td>0.461654</td>\n",
       "      <td>-0.209371</td>\n",
       "    </tr>\n",
       "    <tr>\n",
       "      <th>R2</th>\n",
       "      <td>-1.979428</td>\n",
       "      <td>-0.392146</td>\n",
       "      <td>-0.010080</td>\n",
       "      <td>0.513912</td>\n",
       "    </tr>\n",
       "    <tr>\n",
       "      <th>R3</th>\n",
       "      <td>0.374058</td>\n",
       "      <td>-0.631885</td>\n",
       "      <td>0.006192</td>\n",
       "      <td>1.152563</td>\n",
       "    </tr>\n",
       "  </tbody>\n",
       "</table>\n",
       "</div>"
      ],
      "text/plain": [
       "          C1        C2        C3        C4\n",
       "R1  0.668952 -0.504203  0.461654 -0.209371\n",
       "R2 -1.979428 -0.392146 -0.010080  0.513912\n",
       "R3  0.374058 -0.631885  0.006192  1.152563"
      ]
     },
     "execution_count": 13,
     "metadata": {},
     "output_type": "execute_result"
    }
   ],
   "source": [
    "df=pd.DataFrame(md,[\"R1\",\"R2\",\"R3\"],[\"C1\",\"C2\",\"C3\",\"C4\"])\n",
    "df"
   ]
  },
  {
   "cell_type": "code",
   "execution_count": 18,
   "id": "86697ccc",
   "metadata": {},
   "outputs": [
    {
     "data": {
      "text/plain": [
       "R1    0.668952\n",
       "R2   -1.979428\n",
       "R3    0.374058\n",
       "Name: C1, dtype: float64"
      ]
     },
     "execution_count": 18,
     "metadata": {},
     "output_type": "execute_result"
    }
   ],
   "source": [
    "df['C1']"
   ]
  },
  {
   "cell_type": "code",
   "execution_count": 22,
   "id": "af8b9a5c",
   "metadata": {},
   "outputs": [
    {
     "data": {
      "text/html": [
       "<div>\n",
       "<style scoped>\n",
       "    .dataframe tbody tr th:only-of-type {\n",
       "        vertical-align: middle;\n",
       "    }\n",
       "\n",
       "    .dataframe tbody tr th {\n",
       "        vertical-align: top;\n",
       "    }\n",
       "\n",
       "    .dataframe thead th {\n",
       "        text-align: right;\n",
       "    }\n",
       "</style>\n",
       "<table border=\"1\" class=\"dataframe\">\n",
       "  <thead>\n",
       "    <tr style=\"text-align: right;\">\n",
       "      <th></th>\n",
       "      <th>C1</th>\n",
       "      <th>C2</th>\n",
       "    </tr>\n",
       "  </thead>\n",
       "  <tbody>\n",
       "    <tr>\n",
       "      <th>R1</th>\n",
       "      <td>0.668952</td>\n",
       "      <td>-0.504203</td>\n",
       "    </tr>\n",
       "    <tr>\n",
       "      <th>R2</th>\n",
       "      <td>-1.979428</td>\n",
       "      <td>-0.392146</td>\n",
       "    </tr>\n",
       "    <tr>\n",
       "      <th>R3</th>\n",
       "      <td>0.374058</td>\n",
       "      <td>-0.631885</td>\n",
       "    </tr>\n",
       "  </tbody>\n",
       "</table>\n",
       "</div>"
      ],
      "text/plain": [
       "          C1        C2\n",
       "R1  0.668952 -0.504203\n",
       "R2 -1.979428 -0.392146\n",
       "R3  0.374058 -0.631885"
      ]
     },
     "execution_count": 22,
     "metadata": {},
     "output_type": "execute_result"
    }
   ],
   "source": [
    "df[['C1','C2']]"
   ]
  },
  {
   "cell_type": "code",
   "execution_count": 23,
   "id": "34930d90",
   "metadata": {},
   "outputs": [],
   "source": [
    "df['C5']=df['C1']*df['C3']"
   ]
  },
  {
   "cell_type": "code",
   "execution_count": 24,
   "id": "b7d94f7d",
   "metadata": {},
   "outputs": [
    {
     "data": {
      "text/html": [
       "<div>\n",
       "<style scoped>\n",
       "    .dataframe tbody tr th:only-of-type {\n",
       "        vertical-align: middle;\n",
       "    }\n",
       "\n",
       "    .dataframe tbody tr th {\n",
       "        vertical-align: top;\n",
       "    }\n",
       "\n",
       "    .dataframe thead th {\n",
       "        text-align: right;\n",
       "    }\n",
       "</style>\n",
       "<table border=\"1\" class=\"dataframe\">\n",
       "  <thead>\n",
       "    <tr style=\"text-align: right;\">\n",
       "      <th></th>\n",
       "      <th>C1</th>\n",
       "      <th>C2</th>\n",
       "      <th>C3</th>\n",
       "      <th>C4</th>\n",
       "      <th>C5</th>\n",
       "    </tr>\n",
       "  </thead>\n",
       "  <tbody>\n",
       "    <tr>\n",
       "      <th>R1</th>\n",
       "      <td>0.668952</td>\n",
       "      <td>-0.504203</td>\n",
       "      <td>0.461654</td>\n",
       "      <td>-0.209371</td>\n",
       "      <td>0.308824</td>\n",
       "    </tr>\n",
       "    <tr>\n",
       "      <th>R2</th>\n",
       "      <td>-1.979428</td>\n",
       "      <td>-0.392146</td>\n",
       "      <td>-0.010080</td>\n",
       "      <td>0.513912</td>\n",
       "      <td>0.019953</td>\n",
       "    </tr>\n",
       "    <tr>\n",
       "      <th>R3</th>\n",
       "      <td>0.374058</td>\n",
       "      <td>-0.631885</td>\n",
       "      <td>0.006192</td>\n",
       "      <td>1.152563</td>\n",
       "      <td>0.002316</td>\n",
       "    </tr>\n",
       "  </tbody>\n",
       "</table>\n",
       "</div>"
      ],
      "text/plain": [
       "          C1        C2        C3        C4        C5\n",
       "R1  0.668952 -0.504203  0.461654 -0.209371  0.308824\n",
       "R2 -1.979428 -0.392146 -0.010080  0.513912  0.019953\n",
       "R3  0.374058 -0.631885  0.006192  1.152563  0.002316"
      ]
     },
     "execution_count": 24,
     "metadata": {},
     "output_type": "execute_result"
    }
   ],
   "source": [
    "df"
   ]
  },
  {
   "cell_type": "code",
   "execution_count": 25,
   "id": "02f8eb92",
   "metadata": {},
   "outputs": [
    {
     "data": {
      "text/html": [
       "<div>\n",
       "<style scoped>\n",
       "    .dataframe tbody tr th:only-of-type {\n",
       "        vertical-align: middle;\n",
       "    }\n",
       "\n",
       "    .dataframe tbody tr th {\n",
       "        vertical-align: top;\n",
       "    }\n",
       "\n",
       "    .dataframe thead th {\n",
       "        text-align: right;\n",
       "    }\n",
       "</style>\n",
       "<table border=\"1\" class=\"dataframe\">\n",
       "  <thead>\n",
       "    <tr style=\"text-align: right;\">\n",
       "      <th></th>\n",
       "      <th>C1</th>\n",
       "      <th>C2</th>\n",
       "      <th>C3</th>\n",
       "      <th>C4</th>\n",
       "    </tr>\n",
       "  </thead>\n",
       "  <tbody>\n",
       "    <tr>\n",
       "      <th>R1</th>\n",
       "      <td>0.668952</td>\n",
       "      <td>-0.504203</td>\n",
       "      <td>0.461654</td>\n",
       "      <td>-0.209371</td>\n",
       "    </tr>\n",
       "    <tr>\n",
       "      <th>R2</th>\n",
       "      <td>-1.979428</td>\n",
       "      <td>-0.392146</td>\n",
       "      <td>-0.010080</td>\n",
       "      <td>0.513912</td>\n",
       "    </tr>\n",
       "    <tr>\n",
       "      <th>R3</th>\n",
       "      <td>0.374058</td>\n",
       "      <td>-0.631885</td>\n",
       "      <td>0.006192</td>\n",
       "      <td>1.152563</td>\n",
       "    </tr>\n",
       "  </tbody>\n",
       "</table>\n",
       "</div>"
      ],
      "text/plain": [
       "          C1        C2        C3        C4\n",
       "R1  0.668952 -0.504203  0.461654 -0.209371\n",
       "R2 -1.979428 -0.392146 -0.010080  0.513912\n",
       "R3  0.374058 -0.631885  0.006192  1.152563"
      ]
     },
     "execution_count": 25,
     "metadata": {},
     "output_type": "execute_result"
    }
   ],
   "source": [
    "df.drop('C5',axis=1)"
   ]
  },
  {
   "cell_type": "code",
   "execution_count": 26,
   "id": "42a63e18",
   "metadata": {},
   "outputs": [
    {
     "data": {
      "text/html": [
       "<div>\n",
       "<style scoped>\n",
       "    .dataframe tbody tr th:only-of-type {\n",
       "        vertical-align: middle;\n",
       "    }\n",
       "\n",
       "    .dataframe tbody tr th {\n",
       "        vertical-align: top;\n",
       "    }\n",
       "\n",
       "    .dataframe thead th {\n",
       "        text-align: right;\n",
       "    }\n",
       "</style>\n",
       "<table border=\"1\" class=\"dataframe\">\n",
       "  <thead>\n",
       "    <tr style=\"text-align: right;\">\n",
       "      <th></th>\n",
       "      <th>C1</th>\n",
       "      <th>C2</th>\n",
       "      <th>C3</th>\n",
       "      <th>C4</th>\n",
       "      <th>C5</th>\n",
       "    </tr>\n",
       "  </thead>\n",
       "  <tbody>\n",
       "    <tr>\n",
       "      <th>R1</th>\n",
       "      <td>0.668952</td>\n",
       "      <td>-0.504203</td>\n",
       "      <td>0.461654</td>\n",
       "      <td>-0.209371</td>\n",
       "      <td>0.308824</td>\n",
       "    </tr>\n",
       "    <tr>\n",
       "      <th>R2</th>\n",
       "      <td>-1.979428</td>\n",
       "      <td>-0.392146</td>\n",
       "      <td>-0.010080</td>\n",
       "      <td>0.513912</td>\n",
       "      <td>0.019953</td>\n",
       "    </tr>\n",
       "    <tr>\n",
       "      <th>R3</th>\n",
       "      <td>0.374058</td>\n",
       "      <td>-0.631885</td>\n",
       "      <td>0.006192</td>\n",
       "      <td>1.152563</td>\n",
       "      <td>0.002316</td>\n",
       "    </tr>\n",
       "  </tbody>\n",
       "</table>\n",
       "</div>"
      ],
      "text/plain": [
       "          C1        C2        C3        C4        C5\n",
       "R1  0.668952 -0.504203  0.461654 -0.209371  0.308824\n",
       "R2 -1.979428 -0.392146 -0.010080  0.513912  0.019953\n",
       "R3  0.374058 -0.631885  0.006192  1.152563  0.002316"
      ]
     },
     "execution_count": 26,
     "metadata": {},
     "output_type": "execute_result"
    }
   ],
   "source": [
    "df"
   ]
  },
  {
   "cell_type": "code",
   "execution_count": 27,
   "id": "50ae63ef",
   "metadata": {},
   "outputs": [],
   "source": [
    "df.drop('C5',axis=1,inplace=True)"
   ]
  },
  {
   "cell_type": "code",
   "execution_count": 28,
   "id": "078585b7",
   "metadata": {},
   "outputs": [
    {
     "data": {
      "text/html": [
       "<div>\n",
       "<style scoped>\n",
       "    .dataframe tbody tr th:only-of-type {\n",
       "        vertical-align: middle;\n",
       "    }\n",
       "\n",
       "    .dataframe tbody tr th {\n",
       "        vertical-align: top;\n",
       "    }\n",
       "\n",
       "    .dataframe thead th {\n",
       "        text-align: right;\n",
       "    }\n",
       "</style>\n",
       "<table border=\"1\" class=\"dataframe\">\n",
       "  <thead>\n",
       "    <tr style=\"text-align: right;\">\n",
       "      <th></th>\n",
       "      <th>C1</th>\n",
       "      <th>C2</th>\n",
       "      <th>C3</th>\n",
       "      <th>C4</th>\n",
       "    </tr>\n",
       "  </thead>\n",
       "  <tbody>\n",
       "    <tr>\n",
       "      <th>R1</th>\n",
       "      <td>0.668952</td>\n",
       "      <td>-0.504203</td>\n",
       "      <td>0.461654</td>\n",
       "      <td>-0.209371</td>\n",
       "    </tr>\n",
       "    <tr>\n",
       "      <th>R2</th>\n",
       "      <td>-1.979428</td>\n",
       "      <td>-0.392146</td>\n",
       "      <td>-0.010080</td>\n",
       "      <td>0.513912</td>\n",
       "    </tr>\n",
       "    <tr>\n",
       "      <th>R3</th>\n",
       "      <td>0.374058</td>\n",
       "      <td>-0.631885</td>\n",
       "      <td>0.006192</td>\n",
       "      <td>1.152563</td>\n",
       "    </tr>\n",
       "  </tbody>\n",
       "</table>\n",
       "</div>"
      ],
      "text/plain": [
       "          C1        C2        C3        C4\n",
       "R1  0.668952 -0.504203  0.461654 -0.209371\n",
       "R2 -1.979428 -0.392146 -0.010080  0.513912\n",
       "R3  0.374058 -0.631885  0.006192  1.152563"
      ]
     },
     "execution_count": 28,
     "metadata": {},
     "output_type": "execute_result"
    }
   ],
   "source": [
    "df"
   ]
  },
  {
   "cell_type": "markdown",
   "id": "107acc3b",
   "metadata": {},
   "source": [
    "# Subselection Using Pandas "
   ]
  },
  {
   "cell_type": "code",
   "execution_count": 29,
   "id": "9a249539",
   "metadata": {},
   "outputs": [
    {
     "data": {
      "text/plain": [
       "C1   -1.979428\n",
       "C2   -0.392146\n",
       "C3   -0.010080\n",
       "C4    0.513912\n",
       "Name: R2, dtype: float64"
      ]
     },
     "execution_count": 29,
     "metadata": {},
     "output_type": "execute_result"
    }
   ],
   "source": [
    "df.loc['R2']"
   ]
  },
  {
   "cell_type": "code",
   "execution_count": 31,
   "id": "e9dc89ea",
   "metadata": {},
   "outputs": [
    {
     "data": {
      "text/plain": [
       "C1   -1.979428\n",
       "C2   -0.392146\n",
       "C3   -0.010080\n",
       "C4    0.513912\n",
       "Name: R2, dtype: float64"
      ]
     },
     "execution_count": 31,
     "metadata": {},
     "output_type": "execute_result"
    }
   ],
   "source": [
    "df.iloc[1]"
   ]
  },
  {
   "cell_type": "code",
   "execution_count": null,
   "id": "3932d9ac",
   "metadata": {},
   "outputs": [],
   "source": [
    "df.loc[[\"R1\",\"\"]]"
   ]
  }
 ],
 "metadata": {
  "kernelspec": {
   "display_name": "Python 3 (ipykernel)",
   "language": "python",
   "name": "python3"
  },
  "language_info": {
   "codemirror_mode": {
    "name": "ipython",
    "version": 3
   },
   "file_extension": ".py",
   "mimetype": "text/x-python",
   "name": "python",
   "nbconvert_exporter": "python",
   "pygments_lexer": "ipython3",
   "version": "3.10.6"
  }
 },
 "nbformat": 4,
 "nbformat_minor": 5
}
